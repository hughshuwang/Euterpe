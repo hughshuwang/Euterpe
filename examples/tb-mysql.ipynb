{
 "cells": [
  {
   "cell_type": "code",
   "execution_count": 2,
   "metadata": {},
   "outputs": [],
   "source": [
    "from __future__ import print_function\n",
    "\n",
    "import sys\n",
    "sys.path.append('../')\n",
    "\n",
    "import os\n",
    "import numpy as np\n",
    "from itertools import izip\n",
    "\n",
    "import librosa as rs\n",
    "import librosa.feature as ft\n",
    "import librosa.display as dp\n",
    "import librosa.segment as sg\n",
    "\n",
    "import mysql.connector\n",
    "from mysql.connector import errorcode\n",
    "# $ easy_install mysql-connector-python\n",
    "\n",
    "import matplotlib.pyplot as plt\n",
    "%matplotlib inline\n",
    "\n",
    "from euterpe._internal_utils import *"
   ]
  },
  {
   "cell_type": "code",
   "execution_count": 3,
   "metadata": {
    "scrolled": true
   },
   "outputs": [],
   "source": [
    "db_path = '../data-raw/tracks/'\n",
    "tracklist = np.array(gen_tracklist(db_path))\n",
    "trackdict = gen_trackdict(db_path) # can change field\n",
    "# file_path = db_path + '/'.join(tracklist[0]) + '.mp3'\n",
    "# y, sr = rs.load(file_path, duration=300, offset=0)"
   ]
  },
  {
   "cell_type": "code",
   "execution_count": 17,
   "metadata": {},
   "outputs": [],
   "source": [
    "cnx = mysql.connector.connect(user='hugh', \n",
    "                              password='', \n",
    "                              host='localhost', \n",
    "                              use_unicode=True,\n",
    "                              charset='utf8',\n",
    "                              buffered=True)\n",
    "cursor = cnx.cursor()"
   ]
  },
  {
   "cell_type": "code",
   "execution_count": 18,
   "metadata": {},
   "outputs": [
    {
     "name": "stdout",
     "output_type": "stream",
     "text": [
      "Failed: 1007 (HY000): Can't create database 'trackdb'; database exists\n"
     ]
    }
   ],
   "source": [
    "db_name = 'trackdb'\n",
    "\n",
    "try:\n",
    "    cursor.execute(\n",
    "        \"create database {} default character set 'utf8'\".format(db_name))\n",
    "\n",
    "except mysql.connector.Error as err:\n",
    "    print(\"Failed: {}\".format(err))\n",
    "    exit(1)\n",
    "    \n",
    "# cursor.execute(\"\"\"\n",
    "#     use trackdb;\n",
    "# \"\"\")"
   ]
  },
  {
   "cell_type": "code",
   "execution_count": 19,
   "metadata": {},
   "outputs": [],
   "source": [
    "cursor.execute('use trackdb;')"
   ]
  },
  {
   "cell_type": "code",
   "execution_count": null,
   "metadata": {},
   "outputs": [],
   "source": [
    "TABLES = {}\n",
    "TABLES['info'] = (\"\"\"\n",
    "    CREATE TABLE IF NOT EXISTS 'info' (\n",
    "        'trackid' INT UNSIGNED AUTO_INCREMENT,\n",
    "        'artist' VARCHAR(20) NOT NULL,\n",
    "        'album' VARCHAR(50) NOT NULL,\n",
    "        'track' VARCHAR(50) NOT NULL,\n",
    "        PRIMARY KEY ('trackid')\n",
    "    )ENGINE=InnoDB DEFAULT CHARSET=utf8\n",
    "\"\"\")"
   ]
  },
  {
   "cell_type": "code",
   "execution_count": null,
   "metadata": {},
   "outputs": [],
   "source": [
    "cnx.close()"
   ]
  }
 ],
 "metadata": {
  "kernelspec": {
   "display_name": "Python 2",
   "language": "python",
   "name": "python2"
  },
  "language_info": {
   "codemirror_mode": {
    "name": "ipython",
    "version": 2
   },
   "file_extension": ".py",
   "mimetype": "text/x-python",
   "name": "python",
   "nbconvert_exporter": "python",
   "pygments_lexer": "ipython2",
   "version": "2.7.15"
  }
 },
 "nbformat": 4,
 "nbformat_minor": 2
}
