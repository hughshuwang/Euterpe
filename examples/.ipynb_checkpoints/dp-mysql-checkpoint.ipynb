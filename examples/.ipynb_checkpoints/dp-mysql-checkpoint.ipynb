{
 "cells": [
  {
   "cell_type": "code",
   "execution_count": 1,
   "metadata": {},
   "outputs": [],
   "source": [
    "from __future__ import print_function\n",
    "\n",
    "import sys\n",
    "sys.path.append('../') \n",
    "# adding euterpe \n",
    "\n",
    "import os\n",
    "import numpy as np\n",
    "from itertools import izip\n",
    "\n",
    "import librosa as rs\n",
    "import librosa.feature as ft\n",
    "import librosa.display as dp\n",
    "import librosa.segment as sg\n",
    "\n",
    "import mysql.connector\n",
    "from mysql.connector import errorcode\n",
    "# $ easy_install mysql-connector-python\n",
    "\n",
    "import matplotlib.pyplot as plt\n",
    "%matplotlib inline\n",
    "\n",
    "from euterpe.utils import *\n",
    "\n",
    "\n",
    "cnx = mysql.connector.connect(user='hugh', password='', host='localhost', \n",
    "                              use_unicode=True, charset='utf8', buffered=True)\n",
    "cursor = cnx.cursor()"
   ]
  },
  {
   "cell_type": "code",
   "execution_count": 2,
   "metadata": {
    "scrolled": true
   },
   "outputs": [],
   "source": [
    "DB_PATH = '../data-raw/tracks/'\n",
    "DB_NAME = 'trackdb'\n",
    "\n",
    "tracklist = np.array(gen_tracklist(DB_PATH))\n",
    "trackdict = gen_trackdict(DB_PATH) # can change field\n",
    "# file_path = db_path + '/'.join(tracklist[0]) + '.mp3'\n",
    "# y, sr = rs.load(file_path, duration=300, offset=0)\n",
    "\n",
    "TABLES = {}\n",
    "TABLES['info'] = (\n",
    "    \"CREATE TABLE IF NOT EXISTS `info` (\"\n",
    "    \"`trackid` INT UNSIGNED AUTO_INCREMENT,\"\n",
    "    \"`artist` VARCHAR(20) NOT NULL,\"\n",
    "    \"`album` VARCHAR(50) NOT NULL,\"\n",
    "    \"`track` VARCHAR(50) NOT NULL,\"\n",
    "    \"PRIMARY KEY (`trackid`)\"\n",
    "    \") ENGINE=InnoDB DEFAULT CHARSET=utf8\"\n",
    ")\n",
    "\n",
    "ADD_TRACK = (\"INSERT INTO info\"\n",
    "             \"(artist, album, track)\"\n",
    "             \"VALUES (%(artist)s, %(album)s, %(track)s)\")"
   ]
  },
  {
   "cell_type": "code",
   "execution_count": 3,
   "metadata": {},
   "outputs": [
    {
     "name": "stdout",
     "output_type": "stream",
     "text": [
      "Failed: 1007 (HY000): Can't create database 'trackdb'; database exists\n"
     ]
    }
   ],
   "source": [
    "try:\n",
    "    cursor.execute(\n",
    "        \"create database {} default character set 'utf8'\".format(DB_NAME))\n",
    "\n",
    "except mysql.connector.Error as err:\n",
    "    print(\"Failed: {}\".format(err))\n",
    "    exit(1)"
   ]
  },
  {
   "cell_type": "code",
   "execution_count": 4,
   "metadata": {},
   "outputs": [
    {
     "name": "stdout",
     "output_type": "stream",
     "text": [
      "Creating table info: OK\n"
     ]
    }
   ],
   "source": [
    "cursor.execute(\"USE trackdb;\")\n",
    "\n",
    "for table_name in TABLES:\n",
    "    table_description = TABLES[table_name]\n",
    "\n",
    "    try:\n",
    "        print(\"Creating table {}: \".format(table_name), end='')\n",
    "        cursor.execute(table_description)\n",
    "    \n",
    "    except mysql.connector.Error as err:\n",
    "        if err.errno == errorcode.ER_TABLE_EXISTS_ERROR:\n",
    "            print(\"already exists.\")\n",
    "        else:\n",
    "            print(err.msg)\n",
    "    else:\n",
    "        print(\"OK\")\n",
    "        \n",
    "for i in range(len(trackdict)):\n",
    "    cursor.execute(ADD_TRACK, trackdict[i])\n",
    "    cnx.commit()"
   ]
  },
  {
   "cell_type": "code",
   "execution_count": 5,
   "metadata": {},
   "outputs": [],
   "source": [
    "cursor.close()\n",
    "cnx.close()"
   ]
  }
 ],
 "metadata": {
  "kernelspec": {
   "display_name": "Python 2",
   "language": "python",
   "name": "python2"
  },
  "language_info": {
   "codemirror_mode": {
    "name": "ipython",
    "version": 2
   },
   "file_extension": ".py",
   "mimetype": "text/x-python",
   "name": "python",
   "nbconvert_exporter": "python",
   "pygments_lexer": "ipython2",
   "version": "2.7.15"
  }
 },
 "nbformat": 4,
 "nbformat_minor": 2
}
