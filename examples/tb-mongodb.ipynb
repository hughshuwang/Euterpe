{
 "cells": [
  {
   "cell_type": "code",
   "execution_count": 1,
   "metadata": {},
   "outputs": [],
   "source": [
    "from __future__ import print_function\n",
    "\n",
    "import sys\n",
    "sys.path.append('../') \n",
    "# adding euterpe \n",
    "\n",
    "import os\n",
    "import numpy as np\n",
    "from itertools import izip\n",
    "\n",
    "import librosa as rs\n",
    "import librosa.feature as ft\n",
    "import librosa.display as dp\n",
    "import librosa.segment as sg\n",
    "\n",
    "import pymongo\n",
    "from pymongo import MongoClient\n",
    "\n",
    "import matplotlib.pyplot as plt\n",
    "%matplotlib inline\n",
    "\n",
    "from euterpe._internal_utils import *\n",
    "from euterpe.track import track\n",
    "\n",
    "DB_PATH = '../data-raw/tracks/'\n",
    "FILE_TYPE = 'mp3'"
   ]
  },
  {
   "cell_type": "code",
   "execution_count": 2,
   "metadata": {},
   "outputs": [
    {
     "name": "stdout",
     "output_type": "stream",
     "text": [
      "Attr assigned sucessfully: _sr\n",
      "Attr assigned sucessfully: _y\n"
     ]
    }
   ],
   "source": [
    "# directory infomation extraction\n",
    "tracklist = np.array(gen_tracklist(DB_PATH))\n",
    "trackdict = gen_trackdict(DB_PATH) # can change field\n",
    "\n",
    "sample_info = trackdict[0]\n",
    "t1 = track(**sample_info)\n",
    "t1.load(DB_PATH, FILE_TYPE)"
   ]
  },
  {
   "cell_type": "code",
   "execution_count": 3,
   "metadata": {
    "scrolled": true
   },
   "outputs": [
    {
     "data": {
      "text/plain": [
       "[{'album': 'Frank', 'artist': 'Amy Winehouse', 'name': 'What Is It About Men'},\n",
       " {'album': 'Frank', 'artist': 'Amy Winehouse', 'name': 'You Sent Me Flying'},\n",
       " {'album': 'ROOTS', 'artist': 'Flo Rida', 'name': 'Touch Me'},\n",
       " {'album': 'Greatest Hits', 'artist': 'The Eagles', 'name': 'New Kid In Town'},\n",
       " {'album': 'BEYONCE', 'artist': 'Beyonce', 'name': 'XO'},\n",
       " {'album': 'BEYONCE', 'artist': 'Beyonce', 'name': 'Heaven'},\n",
       " {'album': 'Endless', 'artist': 'Frank Ocean', 'name': 'Rushes'},\n",
       " {'album': 'Channel Orange', 'artist': 'Frank Ocean', 'name': 'Pyramids'},\n",
       " {'album': 'Channel Orange', 'artist': 'Frank Ocean', 'name': 'Pink Matter'},\n",
       " {'album': 'Yeezus', 'artist': 'Kanye West', 'name': 'Blood On The Leaves'},\n",
       " {'album': 'My Beautiful Dark Twisted Fantasy',\n",
       "  'artist': 'Kanye West',\n",
       "  'name': 'Devil In A New Dress'},\n",
       " {'album': 'More Life', 'artist': 'Drake', 'name': '4422'}]"
      ]
     },
     "execution_count": 3,
     "metadata": {},
     "output_type": "execute_result"
    }
   ],
   "source": [
    "trackdict"
   ]
  },
  {
   "cell_type": "code",
   "execution_count": 11,
   "metadata": {},
   "outputs": [
    {
     "data": {
      "text/plain": [
       "[u'admin', u'config', u'local', u'trackdb']"
      ]
     },
     "execution_count": 11,
     "metadata": {},
     "output_type": "execute_result"
    }
   ],
   "source": [
    "client = MongoClient()\n",
    "client.list_database_names()\n",
    "\n",
    "trackdb = client['trackdb']\n",
    "info = trackdb['info']\n",
    "\n",
    "list(info.find({'artist':'Frank Ocean'}))\n",
    "# info.find_one()\n",
    "\n",
    "info.insert_many(trackdict)\n",
    "# update_many, conditions with new data\n",
    "\n",
    "# TODO: insert document with nparray and other stuff\n",
    "# ref: https://stackoverflow.com/questions/6367589/saving-numpy-array-in-mongodb"
   ]
  },
  {
   "cell_type": "code",
   "execution_count": 10,
   "metadata": {},
   "outputs": [],
   "source": []
  },
  {
   "cell_type": "code",
   "execution_count": null,
   "metadata": {},
   "outputs": [],
   "source": []
  },
  {
   "cell_type": "code",
   "execution_count": null,
   "metadata": {},
   "outputs": [],
   "source": []
  }
 ],
 "metadata": {
  "kernelspec": {
   "display_name": "Python 2",
   "language": "python",
   "name": "python2"
  },
  "language_info": {
   "codemirror_mode": {
    "name": "ipython",
    "version": 2
   },
   "file_extension": ".py",
   "mimetype": "text/x-python",
   "name": "python",
   "nbconvert_exporter": "python",
   "pygments_lexer": "ipython2",
   "version": "2.7.15"
  }
 },
 "nbformat": 4,
 "nbformat_minor": 2
}
