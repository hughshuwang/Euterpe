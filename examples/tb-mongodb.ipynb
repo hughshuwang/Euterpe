{
 "cells": [
  {
   "cell_type": "code",
   "execution_count": 1,
   "metadata": {},
   "outputs": [],
   "source": [
    "from __future__ import print_function\n",
    "\n",
    "import sys\n",
    "sys.path.append('../') \n",
    "# adding euterpe \n",
    "\n",
    "import os\n",
    "import numpy as np\n",
    "import pickle \n",
    "# pickle.dumps(x, protocol=2)\n",
    "\n",
    "import librosa as rs\n",
    "import librosa.feature as ft\n",
    "import librosa.display as dp\n",
    "import librosa.segment as sg\n",
    "\n",
    "import pymongo\n",
    "from pymongo import MongoClient\n",
    "\n",
    "from itertools import izip\n",
    "from bson.binary import Binary\n",
    "\n",
    "from euterpe.utils import *\n",
    "from euterpe.track import track\n",
    "\n",
    "import matplotlib.pyplot as plt\n",
    "%matplotlib inline\n",
    "\n",
    "\n",
    "DB_PATH = '../data-raw/tracks/'\n",
    "FILE_TYPE = 'mp3'"
   ]
  },
  {
   "cell_type": "code",
   "execution_count": 2,
   "metadata": {},
   "outputs": [
    {
     "data": {
      "text/plain": [
       "[None, None, None, None, None, None, None, None, None, None, None, None]"
      ]
     },
     "execution_count": 2,
     "metadata": {},
     "output_type": "execute_result"
    }
   ],
   "source": [
    "# directory infomation extraction\n",
    "tracklist = np.array(gen_tracklist(DB_PATH))\n",
    "trackdict = gen_trackdict(DB_PATH) # can change field\n",
    "\n",
    "stamp_default = {'duration' : 10, 'offset' : 0.0}\n",
    "map(lambda x: x.update(stamp_default), trackdict)"
   ]
  },
  {
   "cell_type": "code",
   "execution_count": 3,
   "metadata": {},
   "outputs": [
    {
     "name": "stdout",
     "output_type": "stream",
     "text": [
      "Attr assigned: _sr\n",
      "Attr assigned: _y\n",
      "Attr assigned: _duration\n"
     ]
    }
   ],
   "source": [
    "t1 = track(**trackdict[0]) \n",
    "t1.load(); # t1.y = t1.y.tolist()\n",
    "\n",
    "# t1.basic_info()"
   ]
  },
  {
   "cell_type": "code",
   "execution_count": 7,
   "metadata": {},
   "outputs": [
    {
     "data": {
      "text/plain": [
       "array([0.        , 0.        , 0.        , ..., 0.05561558, 0.05296268,\n",
       "       0.05887771])"
      ]
     },
     "execution_count": 7,
     "metadata": {},
     "output_type": "execute_result"
    }
   ],
   "source": [
    "np.array(t1.gen_dict()['y'])"
   ]
  },
  {
   "cell_type": "code",
   "execution_count": 3,
   "metadata": {},
   "outputs": [],
   "source": [
    "# need to run mongod in the terminal first\n",
    "client = MongoClient()\n",
    "client.list_database_names()\n",
    "\n",
    "trackdb = client['trackdb']\n",
    "info = trackdb['info']\n",
    "# update_many, conditions with new data\n",
    "\n",
    "# TODO: drop duplicates in mongodb\n",
    "# TODO: insert document with nparray and other stuff\n",
    "# ref: https://stackoverflow.com/questions/6367589/saving-numpy-array-in-mongodb"
   ]
  },
  {
   "cell_type": "code",
   "execution_count": 4,
   "metadata": {},
   "outputs": [
    {
     "data": {
      "text/plain": [
       "[{u'_id': ObjectId('5c0d87a7fd2e3721cb6ea4a1'),\n",
       "  u'album': u'Frank',\n",
       "  u'artist': u'Amy Winehouse',\n",
       "  u'name': u'What Is It About Men'},\n",
       " {u'_id': ObjectId('5c0d87a7fd2e3721cb6ea4a2'),\n",
       "  u'album': u'Frank',\n",
       "  u'artist': u'Amy Winehouse',\n",
       "  u'name': u'You Sent Me Flying'},\n",
       " {u'_id': ObjectId('5c0d87a7fd2e3721cb6ea4a3'),\n",
       "  u'album': u'ROOTS',\n",
       "  u'artist': u'Flo Rida',\n",
       "  u'name': u'Touch Me'},\n",
       " {u'_id': ObjectId('5c0d87a7fd2e3721cb6ea4a4'),\n",
       "  u'album': u'Greatest Hits',\n",
       "  u'artist': u'The Eagles',\n",
       "  u'name': u'New Kid In Town'},\n",
       " {u'_id': ObjectId('5c0d87a7fd2e3721cb6ea4a5'),\n",
       "  u'album': u'BEYONCE',\n",
       "  u'artist': u'Beyonce',\n",
       "  u'name': u'XO'},\n",
       " {u'_id': ObjectId('5c0d87a7fd2e3721cb6ea4a6'),\n",
       "  u'album': u'BEYONCE',\n",
       "  u'artist': u'Beyonce',\n",
       "  u'name': u'Heaven'},\n",
       " {u'_id': ObjectId('5c0d87a7fd2e3721cb6ea4a7'),\n",
       "  u'album': u'Endless',\n",
       "  u'artist': u'Frank Ocean',\n",
       "  u'name': u'Rushes'},\n",
       " {u'_id': ObjectId('5c0d87a7fd2e3721cb6ea4a8'),\n",
       "  u'album': u'Channel Orange',\n",
       "  u'artist': u'Frank Ocean',\n",
       "  u'name': u'Pyramids'},\n",
       " {u'_id': ObjectId('5c0d87a7fd2e3721cb6ea4a9'),\n",
       "  u'album': u'Channel Orange',\n",
       "  u'artist': u'Frank Ocean',\n",
       "  u'name': u'Pink Matter'},\n",
       " {u'_id': ObjectId('5c0d87a7fd2e3721cb6ea4aa'),\n",
       "  u'album': u'Yeezus',\n",
       "  u'artist': u'Kanye West',\n",
       "  u'name': u'Blood On The Leaves'},\n",
       " {u'_id': ObjectId('5c0d87a7fd2e3721cb6ea4ab'),\n",
       "  u'album': u'My Beautiful Dark Twisted Fantasy',\n",
       "  u'artist': u'Kanye West',\n",
       "  u'name': u'Devil In A New Dress'},\n",
       " {u'_id': ObjectId('5c0d87a7fd2e3721cb6ea4ac'),\n",
       "  u'album': u'More Life',\n",
       "  u'artist': u'Drake',\n",
       "  u'name': u'4422'}]"
      ]
     },
     "execution_count": 4,
     "metadata": {},
     "output_type": "execute_result"
    }
   ],
   "source": [
    "list(info.find({}))"
   ]
  },
  {
   "cell_type": "code",
   "execution_count": 5,
   "metadata": {},
   "outputs": [],
   "source": [
    "client.close()"
   ]
  }
 ],
 "metadata": {
  "kernelspec": {
   "display_name": "Python 2",
   "language": "python",
   "name": "python2"
  },
  "language_info": {
   "codemirror_mode": {
    "name": "ipython",
    "version": 2
   },
   "file_extension": ".py",
   "mimetype": "text/x-python",
   "name": "python",
   "nbconvert_exporter": "python",
   "pygments_lexer": "ipython2",
   "version": "2.7.15"
  }
 },
 "nbformat": 4,
 "nbformat_minor": 2
}
