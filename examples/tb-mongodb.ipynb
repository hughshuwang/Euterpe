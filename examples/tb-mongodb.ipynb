{
 "cells": [
  {
   "cell_type": "code",
   "execution_count": 1,
   "metadata": {},
   "outputs": [],
   "source": [
    "from __future__ import print_function\n",
    "\n",
    "import sys\n",
    "sys.path.append('../') \n",
    "# adding euterpe \n",
    "\n",
    "import os\n",
    "import numpy as np\n",
    "from itertools import izip\n",
    "\n",
    "import librosa as rs\n",
    "import librosa.feature as ft\n",
    "import librosa.display as dp\n",
    "import librosa.segment as sg\n",
    "\n",
    "import pymongo\n",
    "from pymongo import MongoClient\n",
    "\n",
    "import matplotlib.pyplot as plt\n",
    "%matplotlib inline\n",
    "\n",
    "from euterpe._internal_utils import *"
   ]
  },
  {
   "cell_type": "code",
   "execution_count": 2,
   "metadata": {},
   "outputs": [
    {
     "data": {
      "text/plain": [
       "[u'admin', u'config', u'local']"
      ]
     },
     "execution_count": 2,
     "metadata": {},
     "output_type": "execute_result"
    }
   ],
   "source": [
    "client = MongoClient()\n",
    "client.list_database_names()"
   ]
  },
  {
   "cell_type": "code",
   "execution_count": 3,
   "metadata": {},
   "outputs": [
    {
     "data": {
      "text/plain": [
       "<pymongo.cursor.Cursor at 0x11e22f950>"
      ]
     },
     "execution_count": 3,
     "metadata": {},
     "output_type": "execute_result"
    }
   ],
   "source": [
    "trackdb = client['trackdb']\n",
    "info = trackdb['info']\n",
    "info.find()"
   ]
  },
  {
   "cell_type": "code",
   "execution_count": 4,
   "metadata": {},
   "outputs": [],
   "source": [
    "DB_PATH = '../data-raw/tracks/'\n",
    "tracklist = np.array(gen_tracklist(DB_PATH))\n",
    "trackdict = gen_trackdict(DB_PATH) # can change field"
   ]
  },
  {
   "cell_type": "code",
   "execution_count": 5,
   "metadata": {},
   "outputs": [
    {
     "data": {
      "text/plain": [
       "[{'album': 'Frank',\n",
       "  'artist': 'Amy Winehouse',\n",
       "  'track': 'What Is It About Men'},\n",
       " {'album': 'Frank', 'artist': 'Amy Winehouse', 'track': 'You Sent Me Flying'},\n",
       " {'album': 'ROOTS', 'artist': 'Flo Rida', 'track': 'Touch Me'},\n",
       " {'album': 'Greatest Hits',\n",
       "  'artist': 'The Eagles',\n",
       "  'track': 'New Kid In Town'},\n",
       " {'album': 'Endless', 'artist': 'Frank Ocean', 'track': 'Rushes'},\n",
       " {'album': 'Channel Orange', 'artist': 'Frank Ocean', 'track': 'Pyramids'},\n",
       " {'album': 'Channel Orange', 'artist': 'Frank Ocean', 'track': 'Pink Matter'},\n",
       " {'album': 'Yeezus', 'artist': 'Kanye West', 'track': 'Blood On The Leaves'},\n",
       " {'album': 'My Beautiful Dark Twisted Fantasy',\n",
       "  'artist': 'Kanye West',\n",
       "  'track': 'Devil In A New Dress'},\n",
       " {'album': 'BEYONCE\\xcc\\x81', 'artist': 'Beyonce\\xcc\\x81', 'track': 'XO'},\n",
       " {'album': 'BEYONCE\\xcc\\x81', 'artist': 'Beyonce\\xcc\\x81', 'track': 'Heaven'},\n",
       " {'album': 'More Life', 'artist': 'Drake', 'track': '4422'}]"
      ]
     },
     "execution_count": 5,
     "metadata": {},
     "output_type": "execute_result"
    }
   ],
   "source": [
    "trackdict"
   ]
  },
  {
   "cell_type": "code",
   "execution_count": 8,
   "metadata": {},
   "outputs": [
    {
     "data": {
      "text/plain": [
       "<pymongo.results.InsertManyResult at 0x11e260758>"
      ]
     },
     "execution_count": 8,
     "metadata": {},
     "output_type": "execute_result"
    }
   ],
   "source": [
    "info.insert_many(trackdict)"
   ]
  },
  {
   "cell_type": "code",
   "execution_count": 13,
   "metadata": {},
   "outputs": [
    {
     "data": {
      "text/plain": [
       "{u'_id': ObjectId('5c0a08bb907b0822466378e6'),\n",
       " u'album': u'Frank',\n",
       " u'artist': u'Amy Winehouse',\n",
       " u'track': u'What Is It About Men'}"
      ]
     },
     "execution_count": 13,
     "metadata": {},
     "output_type": "execute_result"
    }
   ],
   "source": [
    "info.find_one()"
   ]
  },
  {
   "cell_type": "code",
   "execution_count": 14,
   "metadata": {},
   "outputs": [
    {
     "data": {
      "text/plain": [
       "<pymongo.cursor.Cursor at 0x11e22f810>"
      ]
     },
     "execution_count": 14,
     "metadata": {},
     "output_type": "execute_result"
    }
   ],
   "source": [
    "info.find({'album':'Frank'})"
   ]
  }
 ],
 "metadata": {
  "kernelspec": {
   "display_name": "Python 2",
   "language": "python",
   "name": "python2"
  },
  "language_info": {
   "codemirror_mode": {
    "name": "ipython",
    "version": 2
   },
   "file_extension": ".py",
   "mimetype": "text/x-python",
   "name": "python",
   "nbconvert_exporter": "python",
   "pygments_lexer": "ipython2",
   "version": "2.7.15"
  }
 },
 "nbformat": 4,
 "nbformat_minor": 2
}
